{
 "cells": [
  {
   "cell_type": "markdown",
   "id": "fae658d3",
   "metadata": {},
   "source": [
    "# prepare dataset and libraries"
   ]
  },
  {
   "cell_type": "code",
   "execution_count": 1,
   "id": "cf0896cf",
   "metadata": {},
   "outputs": [],
   "source": [
    "import pandas as pd"
   ]
  },
  {
   "cell_type": "code",
   "execution_count": 2,
   "id": "cdbbbd58",
   "metadata": {},
   "outputs": [],
   "source": [
    "data = pd.read_csv('C:\\\\Users\\\\Saeth\\\\Downloads\\\\WIC_default_V4_emb.csv')"
   ]
  },
  {
   "cell_type": "code",
   "execution_count": 3,
   "id": "4bb567c4",
   "metadata": {},
   "outputs": [],
   "source": [
    "import matplotlib.pyplot as plt\n",
    "from matplotlib.pyplot import figure"
   ]
  },
  {
   "cell_type": "code",
   "execution_count": 4,
   "id": "89a25078",
   "metadata": {},
   "outputs": [],
   "source": [
    "from ax import optimize"
   ]
  },
  {
   "cell_type": "code",
   "execution_count": 5,
   "id": "65916718",
   "metadata": {},
   "outputs": [],
   "source": [
    "import torch\n",
    "from sklearn.metrics.pairwise import cosine_similarity\n",
    "import math\n",
    "import numpy as np\n",
    "import nltk\n",
    "from nltk.tokenize import word_tokenize\n",
    "from nltk.tag import tagset_mapping, map_tag\n",
    "import gensim\n",
    "from gensim.utils import simple_preprocess\n",
    "from gensim.parsing.preprocessing import STOPWORDS\n",
    "from nltk.stem import WordNetLemmatizer, SnowballStemmer\n",
    "import numpy as np\n",
    "from sklearn.decomposition import PCA\n",
    "import random\n",
    "import warnings\n",
    "warnings.filterwarnings(\"ignore\") "
   ]
  },
  {
   "cell_type": "code",
   "execution_count": 6,
   "id": "188b8796",
   "metadata": {},
   "outputs": [
    {
     "data": {
      "text/plain": [
       "7477811"
      ]
     },
     "execution_count": 6,
     "metadata": {},
     "output_type": "execute_result"
    }
   ],
   "source": [
    "maxy = max(data['freq'])\n",
    "maxy"
   ]
  },
  {
   "cell_type": "code",
   "execution_count": 7,
   "id": "96109e95",
   "metadata": {},
   "outputs": [
    {
     "data": {
      "image/png": "[encoded data removed]",
      "text/plain": [
       "<Figure size 640x480 with 1 Axes>"
      ]
     },
     "metadata": {
      "needs_background": "light"
     },
     "output_type": "display_data"
    },
    {
     "name": "stdout",
     "output_type": "stream",
     "text": [
      "overall acc:  69.357\n"
     ]
    }
   ],
   "source": [
    "# baseline\n",
    "no_bin=10\n",
    "# 3399860\n",
    "# 3895208\n",
    "move = np.log2(maxy)/no_bin\n",
    "rec= {i+1:[0,0,0,0] for i in range(10)} # sim[true], sim[all], dissim[true], dissim[all]\n",
    "\n",
    "score = 0 # overall acc\n",
    "for index in range(len(data)):\n",
    "    emb1 = torch.tensor([float(i) for i in data.iloc[index]['emb1'][1:-2].split(',')])\n",
    "    emb2 = torch.tensor([float(i) for i in data.iloc[index]['emb2'][1:-2].split(',')])\n",
    "    log2_freq = data.iloc[index]['log2freq']\n",
    "    cos = np.dot(emb1, emb2)/((np.linalg.norm(emb1)*np.linalg.norm(emb2)))\n",
    "\n",
    "    if cos >= 0.5447465400847086:\n",
    "        temp = 'T'\n",
    "    else:\n",
    "        temp = 'F'\n",
    "    lol=False\n",
    "    label = data.iloc[index]['human_label']\n",
    "    if temp == label:\n",
    "        score+=1\n",
    "        lol=True\n",
    "    for j in range(10):\n",
    "        left = j*move\n",
    "        if log2_freq<left:\n",
    "            if label == 'T':\n",
    "                rec[j][1]+=1\n",
    "                if lol:\n",
    "                    rec[j][0]+=1\n",
    "            else:\n",
    "                rec[j][3]+=1\n",
    "                if lol:\n",
    "                    rec[j][2]+=1\n",
    "            break\n",
    "        if j==9:\n",
    "            if label == 'T':\n",
    "                rec[j+1][1]+=1\n",
    "                if lol:\n",
    "                    rec[j+1][0]+=1\n",
    "            else:\n",
    "                rec[j+1][3]+=1\n",
    "                if lol:\n",
    "                    rec[j+1][2]+=1\n",
    "#print(rec)\n",
    "figure(figsize=(8, 6), dpi=80)\n",
    "N = 10\n",
    "#men_means = (20, 35, 30, 35, 27)\n",
    "#women_means = (25, 32, 34, 20, 25)\n",
    "x=[j for j in range(1,11)]\n",
    "ind = np.arange(N) \n",
    "width = 0.35\n",
    "y=[]\n",
    "for g in list(rec.values()):\n",
    "    if g[1] != 0:\n",
    "        y.append((g[0]/g[1])*100)\n",
    "    else:\n",
    "        y.append(0)\n",
    "plt.bar(ind, y, width, label='sim')\n",
    "y2=[]\n",
    "for h in  list(rec.values()):\n",
    "    if h[3] !=0:\n",
    "        y2.append((h[2]/h[3])*100)\n",
    "    else:\n",
    "        y2.append(0)\n",
    "plt.bar(ind + width, y2, width,\n",
    "    label='dissim')\n",
    "\n",
    "#plt.bar(ind + 2*width, [(h[0]+h[2])/(h[3]+h[1]) for h in list(rec.values())], width,\n",
    "    #label='overall')\n",
    "\n",
    "plt.ylabel('accuracy (%)')\n",
    "plt.xlabel('frequency bin (with overall accuracy %)')\n",
    "plt.title('acc of default BERT')\n",
    "\n",
    "y3=[]\n",
    "for h in list(rec.values()):\n",
    "    if h[3]+h[1] != 0:\n",
    "        y3.append((h[0]+h[2])/(h[3]+h[1]))\n",
    "    else:\n",
    "        y3.append(0)\n",
    "default_result = [\"{:.2f}\".format(k*100) for k in y3]\n",
    "default_all_acc = [k*100 for k in y3]\n",
    "\n",
    "plt.xticks(ind + width/2, default_result)\n",
    "plt.legend(loc='best')\n",
    "plt.show()\n",
    "\n",
    "default_gap = np.array([abs(i) for i in np.array(y)-np.array(y2)])\n",
    "default_acc = (score/len(data))*100\n",
    "print('overall acc: ', \"{:.3f}\".format(default_acc))"
   ]
  },
  {
   "cell_type": "code",
   "execution_count": 8,
   "id": "4664a45a",
   "metadata": {},
   "outputs": [
    {
     "data": {
      "text/plain": [
       "array([80.        , 57.14285714, 44.54545455, 48.11881188, 19.21653035,\n",
       "        9.3218436 ,  1.40467402, 11.64641845, 21.17998327, 65.05875077])"
      ]
     },
     "execution_count": 8,
     "metadata": {},
     "output_type": "execute_result"
    }
   ],
   "source": [
    "default_gap"
   ]
  },
  {
   "cell_type": "code",
   "execution_count": 9,
   "id": "0bde9ef4",
   "metadata": {},
   "outputs": [
    {
     "data": {
      "text/plain": [
       "69.35722201699298"
      ]
     },
     "execution_count": 9,
     "metadata": {},
     "output_type": "execute_result"
    }
   ],
   "source": [
    "default_acc"
   ]
  },
  {
   "cell_type": "code",
   "execution_count": 10,
   "id": "2a0f1140",
   "metadata": {},
   "outputs": [
    {
     "data": {
      "text/plain": [
       "[71.42857142857143,\n",
       " 86.20689655172413,\n",
       " 81.9672131147541,\n",
       " 80.16528925619835,\n",
       " 69.78851963746223,\n",
       " 72.98013245033113,\n",
       " 67.76232616940582,\n",
       " 69.8639942734431,\n",
       " 69.35123042505593,\n",
       " 53.47826086956522]"
      ]
     },
     "execution_count": 10,
     "metadata": {},
     "output_type": "execute_result"
    }
   ],
   "source": [
    "default_all_acc"
   ]
  },
  {
   "cell_type": "code",
   "execution_count": 11,
   "id": "0818f0fc",
   "metadata": {},
   "outputs": [],
   "source": [
    "# a single linear adjustment approach\n",
    "def med_freq(m1, t1):\n",
    "    score = 0\n",
    "    no_bin=10\n",
    "    # 3399860\n",
    "    # 3895208\n",
    "    move = np.log2(maxy)/no_bin\n",
    "    rec= {i+1:[0,0,0,0] for i in range(10)}\n",
    "    for index in range(len(data)):\n",
    "        emb1 = torch.tensor([float(i) for i in data.iloc[index]['emb1'][1:-2].split(',')])\n",
    "        emb2 = torch.tensor([float(i) for i in data.iloc[index]['emb2'][1:-2].split(',')])\n",
    "        log2_freq = data.iloc[index]['log2freq']\n",
    "        alpha = (-m1* log2_freq) + 1 + t1*m1\n",
    "        # non_stop words m1 lowest\n",
    "        cos = np.dot(emb1, emb2)/((np.linalg.norm(emb1)*np.linalg.norm(emb2))*alpha)\n",
    "\n",
    "        \n",
    "        if cos >= 0.5447465400847086:\n",
    "            temp = 'T'\n",
    "        else:\n",
    "            temp = 'F'\n",
    "        lol=False\n",
    "        label = data.iloc[index]['human_label']\n",
    "        if temp == label:\n",
    "            score+=1\n",
    "            lol=True\n",
    "        for j in range(10):\n",
    "            left = j*move\n",
    "            if log2_freq<left:\n",
    "                if label == 'T':\n",
    "                    rec[j][1]+=1\n",
    "                    if lol:\n",
    "                        rec[j][0]+=1\n",
    "                else:\n",
    "                    rec[j][3]+=1\n",
    "                    if lol:\n",
    "                        rec[j][2]+=1\n",
    "                break\n",
    "            if j==9:\n",
    "                if label == 'T':\n",
    "                    rec[j+1][1]+=1\n",
    "                    if lol:\n",
    "                        rec[j+1][0]+=1\n",
    "                else:\n",
    "                    rec[j+1][3]+=1\n",
    "                    if lol:\n",
    "                        rec[j+1][2]+=1\n",
    "    y = [(g[0]/g[1])*100 for g in list(rec.values())] # sim\n",
    "    y2=[(h[2]/h[3])*100 for h in list(rec.values())] # dissim\n",
    "    y3 = [((h[0]+h[2])/(h[3]+h[1]))*100 for h in list(rec.values())]\n",
    "    all_gap = default_gap - np.array([abs(i) for i in np.array(y)-np.array(y2)])\n",
    "    delta_gap = (1/no_bin)*np.sum(all_gap)\n",
    "    delta_acc = (score/len(data))*100 - default_acc\n",
    "    delta_all_acc = (1/no_bin)*np.sum(np.array(y3) - np.array(default_all_acc))\n",
    "    return (delta_gap + delta_all_acc + delta_acc)/100"
   ]
  },
  {
   "cell_type": "markdown",
   "id": "54d12941",
   "metadata": {},
   "source": [
    "# train the model"
   ]
  },
  {
   "cell_type": "code",
   "execution_count": 13,
   "id": "7bdbd6e9",
   "metadata": {},
   "outputs": [],
   "source": [
    "import timeit"
   ]
  },
  {
   "cell_type": "code",
   "execution_count": 15,
   "id": "abd3d4ef",
   "metadata": {},
   "outputs": [
    {
     "name": "stderr",
     "output_type": "stream",
     "text": [
      "[INFO 09-23 04:52:52] ax.service.utils.instantiation: Inferred value type of ParameterType.FLOAT for parameter m1. If that is not the expected value type, you can explicity specify 'value_type' ('int', 'float', 'bool' or 'str') in parameter dict.\n",
      "[INFO 09-23 04:52:52] ax.service.utils.instantiation: Inferred value type of ParameterType.FLOAT for parameter t1. If that is not the expected value type, you can explicity specify 'value_type' ('int', 'float', 'bool' or 'str') in parameter dict.\n",
      "[INFO 09-23 04:52:52] ax.service.utils.instantiation: Created search space: SearchSpace(parameters=[RangeParameter(name='m1', parameter_type=FLOAT, range=[0.0299, 0.0301]), RangeParameter(name='t1', parameter_type=FLOAT, range=[13.99, 14.01])], parameter_constraints=[]).\n",
      "[INFO 09-23 04:52:52] ax.modelbridge.dispatch_utils: Using Bayesian optimization since there are more ordered parameters than there are categories for the unordered categorical parameters.\n",
      "[INFO 09-23 04:52:52] ax.modelbridge.dispatch_utils: Using Bayesian Optimization generation strategy: GenerationStrategy(name='Sobol+GPEI', steps=[Sobol for 5 trials, GPEI for subsequent trials]). Iterations after 5 will take longer to generate due to  model-fitting.\n",
      "[INFO 09-23 04:52:52] ax.service.managed_loop: Started full optimization with 100 steps.\n",
      "[INFO 09-23 04:52:52] ax.service.managed_loop: Running optimization trial 1...\n",
      "[INFO 09-23 04:52:59] ax.service.managed_loop: Running optimization trial 2...\n",
      "[INFO 09-23 04:53:05] ax.service.managed_loop: Running optimization trial 3...\n",
      "[INFO 09-23 04:53:11] ax.service.managed_loop: Running optimization trial 4...\n",
      "[INFO 09-23 04:53:18] ax.service.managed_loop: Running optimization trial 5...\n",
      "[INFO 09-23 04:53:24] ax.service.managed_loop: Running optimization trial 6...\n",
      "[INFO 09-23 04:53:31] ax.service.managed_loop: Running optimization trial 7...\n",
      "[INFO 09-23 04:53:37] ax.service.managed_loop: Running optimization trial 8...\n",
      "[INFO 09-23 04:53:44] ax.service.managed_loop: Running optimization trial 9...\n",
      "[INFO 09-23 04:53:50] ax.service.managed_loop: Running optimization trial 10...\n",
      "[INFO 09-23 04:53:57] ax.service.managed_loop: Running optimization trial 11...\n",
      "[INFO 09-23 04:54:03] ax.service.managed_loop: Running optimization trial 12...\n",
      "[INFO 09-23 04:54:10] ax.service.managed_loop: Running optimization trial 13...\n",
      "[INFO 09-23 04:54:16] ax.service.managed_loop: Running optimization trial 14...\n",
      "[INFO 09-23 04:54:23] ax.service.managed_loop: Running optimization trial 15...\n",
      "[INFO 09-23 04:54:29] ax.service.managed_loop: Running optimization trial 16...\n",
      "[INFO 09-23 04:54:37] ax.service.managed_loop: Running optimization trial 17...\n",
      "[INFO 09-23 04:54:43] ax.service.managed_loop: Running optimization trial 18...\n",
      "[INFO 09-23 04:54:50] ax.service.managed_loop: Running optimization trial 19...\n",
      "[INFO 09-23 04:54:56] ax.service.managed_loop: Running optimization trial 20...\n",
      "[INFO 09-23 04:55:03] ax.service.managed_loop: Running optimization trial 21...\n",
      "[INFO 09-23 04:55:09] ax.service.managed_loop: Running optimization trial 22...\n",
      "[INFO 09-23 04:55:16] ax.service.managed_loop: Running optimization trial 23...\n",
      "[INFO 09-23 04:55:23] ax.service.managed_loop: Running optimization trial 24...\n",
      "[INFO 09-23 04:55:29] ax.service.managed_loop: Running optimization trial 25...\n",
      "[INFO 09-23 04:55:36] ax.service.managed_loop: Running optimization trial 26...\n",
      "[INFO 09-23 04:55:42] ax.service.managed_loop: Running optimization trial 27...\n",
      "[INFO 09-23 04:55:48] ax.service.managed_loop: Running optimization trial 28...\n",
      "[INFO 09-23 04:55:55] ax.service.managed_loop: Running optimization trial 29...\n",
      "[INFO 09-23 04:56:01] ax.service.managed_loop: Running optimization trial 30...\n",
      "[INFO 09-23 04:56:07] ax.service.managed_loop: Running optimization trial 31...\n",
      "[INFO 09-23 04:56:14] ax.service.managed_loop: Running optimization trial 32...\n",
      "[INFO 09-23 04:56:20] ax.service.managed_loop: Running optimization trial 33...\n",
      "[INFO 09-23 04:56:27] ax.service.managed_loop: Running optimization trial 34...\n",
      "[INFO 09-23 04:56:34] ax.service.managed_loop: Running optimization trial 35...\n",
      "[INFO 09-23 04:56:40] ax.service.managed_loop: Running optimization trial 36...\n",
      "[INFO 09-23 04:56:48] ax.service.managed_loop: Running optimization trial 37...\n",
      "[INFO 09-23 04:56:57] ax.service.managed_loop: Running optimization trial 38...\n",
      "[INFO 09-23 04:57:04] ax.service.managed_loop: Running optimization trial 39...\n",
      "[INFO 09-23 04:57:12] ax.service.managed_loop: Running optimization trial 40...\n",
      "[INFO 09-23 04:57:21] ax.service.managed_loop: Running optimization trial 41...\n",
      "[INFO 09-23 04:57:28] ax.service.managed_loop: Running optimization trial 42...\n",
      "[INFO 09-23 04:57:35] ax.service.managed_loop: Running optimization trial 43...\n",
      "[INFO 09-23 04:57:42] ax.service.managed_loop: Running optimization trial 44...\n",
      "[INFO 09-23 04:57:49] ax.service.managed_loop: Running optimization trial 45...\n",
      "[INFO 09-23 04:57:55] ax.service.managed_loop: Running optimization trial 46...\n",
      "[INFO 09-23 04:58:04] ax.service.managed_loop: Running optimization trial 47...\n",
      "[INFO 09-23 04:58:11] ax.service.managed_loop: Running optimization trial 48...\n",
      "[INFO 09-23 04:58:18] ax.service.managed_loop: Running optimization trial 49...\n",
      "[INFO 09-23 04:58:26] ax.service.managed_loop: Running optimization trial 50...\n",
      "[INFO 09-23 04:58:33] ax.service.managed_loop: Running optimization trial 51...\n",
      "[INFO 09-23 04:58:40] ax.service.managed_loop: Running optimization trial 52...\n",
      "[INFO 09-23 04:58:47] ax.service.managed_loop: Running optimization trial 53...\n",
      "[INFO 09-23 04:58:54] ax.service.managed_loop: Running optimization trial 54...\n",
      "[INFO 09-23 04:59:01] ax.service.managed_loop: Running optimization trial 55...\n",
      "[INFO 09-23 04:59:08] ax.service.managed_loop: Running optimization trial 56...\n",
      "[INFO 09-23 04:59:15] ax.service.managed_loop: Running optimization trial 57...\n",
      "[INFO 09-23 04:59:22] ax.service.managed_loop: Running optimization trial 58...\n",
      "[INFO 09-23 04:59:29] ax.service.managed_loop: Running optimization trial 59...\n",
      "[INFO 09-23 04:59:36] ax.service.managed_loop: Running optimization trial 60...\n",
      "[INFO 09-23 04:59:43] ax.service.managed_loop: Running optimization trial 61...\n",
      "[INFO 09-23 04:59:50] ax.service.managed_loop: Running optimization trial 62...\n",
      "[INFO 09-23 04:59:57] ax.service.managed_loop: Running optimization trial 63...\n",
      "[INFO 09-23 05:00:04] ax.service.managed_loop: Running optimization trial 64...\n",
      "[INFO 09-23 05:00:11] ax.service.managed_loop: Running optimization trial 65...\n",
      "[INFO 09-23 05:00:19] ax.service.managed_loop: Running optimization trial 66...\n",
      "[INFO 09-23 05:00:26] ax.service.managed_loop: Running optimization trial 67...\n",
      "[INFO 09-23 05:00:33] ax.service.managed_loop: Running optimization trial 68...\n",
      "[INFO 09-23 05:00:41] ax.service.managed_loop: Running optimization trial 69...\n",
      "[INFO 09-23 05:00:48] ax.service.managed_loop: Running optimization trial 70...\n",
      "[INFO 09-23 05:00:55] ax.service.managed_loop: Running optimization trial 71...\n",
      "[INFO 09-23 05:01:02] ax.service.managed_loop: Running optimization trial 72...\n",
      "[INFO 09-23 05:01:09] ax.service.managed_loop: Running optimization trial 73...\n",
      "[INFO 09-23 05:01:17] ax.service.managed_loop: Running optimization trial 74...\n",
      "[INFO 09-23 05:01:23] ax.service.managed_loop: Running optimization trial 75...\n",
      "[INFO 09-23 05:01:31] ax.service.managed_loop: Running optimization trial 76...\n",
      "[INFO 09-23 05:01:38] ax.service.managed_loop: Running optimization trial 77...\n",
      "[INFO 09-23 05:01:45] ax.service.managed_loop: Running optimization trial 78...\n",
      "[INFO 09-23 05:01:52] ax.service.managed_loop: Running optimization trial 79...\n",
      "[INFO 09-23 05:01:59] ax.service.managed_loop: Running optimization trial 80...\n",
      "[INFO 09-23 05:02:06] ax.service.managed_loop: Running optimization trial 81...\n",
      "[INFO 09-23 05:02:14] ax.service.managed_loop: Running optimization trial 82...\n",
      "[INFO 09-23 05:02:22] ax.service.managed_loop: Running optimization trial 83...\n",
      "[INFO 09-23 05:02:29] ax.service.managed_loop: Running optimization trial 84...\n",
      "[INFO 09-23 05:02:36] ax.service.managed_loop: Running optimization trial 85...\n",
      "[INFO 09-23 05:02:44] ax.service.managed_loop: Running optimization trial 86...\n",
      "[INFO 09-23 05:02:51] ax.service.managed_loop: Running optimization trial 87...\n"
     ]
    },
    {
     "name": "stderr",
     "output_type": "stream",
     "text": [
      "[INFO 09-23 05:02:58] ax.service.managed_loop: Running optimization trial 88...\n",
      "[INFO 09-23 05:03:05] ax.service.managed_loop: Running optimization trial 89...\n",
      "[INFO 09-23 05:03:13] ax.service.managed_loop: Running optimization trial 90...\n",
      "[INFO 09-23 05:03:20] ax.service.managed_loop: Running optimization trial 91...\n",
      "[INFO 09-23 05:03:27] ax.service.managed_loop: Running optimization trial 92...\n",
      "[INFO 09-23 05:03:34] ax.service.managed_loop: Running optimization trial 93...\n",
      "[INFO 09-23 05:03:42] ax.service.managed_loop: Running optimization trial 94...\n",
      "[INFO 09-23 05:03:49] ax.service.managed_loop: Running optimization trial 95...\n",
      "[INFO 09-23 05:03:56] ax.service.managed_loop: Running optimization trial 96...\n",
      "[INFO 09-23 05:04:04] ax.service.managed_loop: Running optimization trial 97...\n",
      "[INFO 09-23 05:04:11] ax.service.managed_loop: Running optimization trial 98...\n",
      "[INFO 09-23 05:04:18] ax.service.managed_loop: Running optimization trial 99...\n",
      "[INFO 09-23 05:04:26] ax.service.managed_loop: Running optimization trial 100...\n"
     ]
    },
    {
     "name": "stdout",
     "output_type": "stream",
     "text": [
      "{'m1': 0.029909346846368652, 't1': 13.99}\n",
      "({'objective': 0.1539639410347703}, {'objective': {'objective': 2.0804454999002724e-10}})\n",
      "time (Sec):  702.7330690000001\n"
     ]
    }
   ],
   "source": [
    "start = timeit.default_timer()\n",
    "best_parameters, best_values, experiment, model2 = optimize(\n",
    "        parameters=[\n",
    "            {\n",
    "                \"name\": \"m1\",\n",
    "                \"type\": \"range\",\n",
    "                \"bounds\": [0.001, 0.1],\n",
    "            },\n",
    "            {\n",
    "                \"name\": \"t1\",\n",
    "                \"type\": \"range\",\n",
    "                \"bounds\": [12.0,18.0],\n",
    "            },\n",
    "            ],\n",
    "            # Booth function\n",
    "            evaluation_function=lambda p: med_freq(p['m1'], p['t1']),\n",
    "            minimize=False,\n",
    "            #parameter_constraints=[\"m1 <= m2\", 'm2 <= m3'],\n",
    "            total_trials=100,\n",
    "        )\n",
    "print(best_parameters)\n",
    "print(best_values)\n",
    "stop = timeit.default_timer()\n",
    "print('time (Sec): ', stop-start)"
   ]
  },
  {
   "cell_type": "code",
   "execution_count": 13,
   "id": "eb1a635c",
   "metadata": {},
   "outputs": [
    {
     "data": {
      "image/png": "[encoded data removed]",
      "text/plain": [
       "<Figure size 640x480 with 1 Axes>"
      ]
     },
     "metadata": {
      "needs_background": "light"
     },
     "output_type": "display_data"
    },
    {
     "name": "stdout",
     "output_type": "stream",
     "text": [
      "overall acc:  67.880\n"
     ]
    },
    {
     "data": {
      "image/png": "[encoded data removed]",
      "text/plain": [
       "<Figure size 640x480 with 1 Axes>"
      ]
     },
     "metadata": {
      "needs_background": "light"
     },
     "output_type": "display_data"
    },
    {
     "data": {
      "image/png": "[encoded data removed]",
      "text/plain": [
       "<Figure size 640x480 with 1 Axes>"
      ]
     },
     "metadata": {
      "needs_background": "light"
     },
     "output_type": "display_data"
    },
    {
     "name": "stdout",
     "output_type": "stream",
     "text": [
      "Delta accuracy (%):  -1.478\n",
      "Average gap improvement (%):  20.543\n",
      "objective function:  0.153\n"
     ]
    }
   ],
   "source": [
    "# alpha = -0.01* bin + 1.06\n",
    "\n",
    "no_bin=10\n",
    "# 3399860\n",
    "# 3895208\n",
    "move = np.log2(maxy)/no_bin\n",
    "rec= {i+1:[0,0,0,0] for i in range(10)}\n",
    "m1 = 0.03\n",
    "t1 = 14\n",
    "score = 0\n",
    "for index in range(len(data)):\n",
    "    emb1 = torch.tensor([float(i) for i in data.iloc[index]['emb1'][1:-2].split(',')])\n",
    "    emb2 = torch.tensor([float(i) for i in data.iloc[index]['emb2'][1:-2].split(',')])\n",
    "    log2_freq = data.iloc[index]['log2freq']\n",
    "    alpha = (-m1* log2_freq) + 1 + t1*m1\n",
    "    # non_stop words m1 lowest\n",
    "    cos = np.dot(emb1, emb2)/((np.linalg.norm(emb1)*np.linalg.norm(emb2))*alpha)\n",
    "    if cos >= 0.5447465400847086:\n",
    "        temp = 'T'\n",
    "    else:\n",
    "        temp = 'F'\n",
    "    lol=False\n",
    "    label = data.iloc[index]['human_label']\n",
    "    if temp == label:\n",
    "        score+=1\n",
    "        lol=True\n",
    "    for j in range(10):\n",
    "        left = j*move\n",
    "        if log2_freq<left:\n",
    "            if label == 'T':\n",
    "                rec[j][1]+=1\n",
    "                if lol:\n",
    "                    rec[j][0]+=1\n",
    "            else:\n",
    "                rec[j][3]+=1\n",
    "                if lol:\n",
    "                    rec[j][2]+=1\n",
    "            break\n",
    "        if j==9:\n",
    "            if label == 'T':\n",
    "                rec[j+1][1]+=1\n",
    "                if lol:\n",
    "                    rec[j+1][0]+=1\n",
    "            else:\n",
    "                rec[j+1][3]+=1\n",
    "                if lol:\n",
    "                    rec[j+1][2]+=1\n",
    "\n",
    "figure(figsize=(8, 6), dpi=80)\n",
    "N = 10\n",
    "#men_means = (20, 35, 30, 35, 27)\n",
    "#women_means = (25, 32, 34, 20, 25)\n",
    "x=[j for j in range(1,11)]\n",
    "ind = np.arange(N) \n",
    "width = 0.35     \n",
    "y = [(g[0]/g[1])*100 for g in list(rec.values())]\n",
    "plt.bar(ind, y, width, label='sim')\n",
    "y2=[(h[2]/h[3])*100 for h in list(rec.values())]\n",
    "plt.bar(ind + width, y2, width,\n",
    "    label='dissim')\n",
    "\n",
    "#plt.bar(ind + 2*width, [(h[0]+h[2])/(h[3]+h[1]) for h in list(rec.values())], width,\n",
    "    #label='overall')\n",
    "\n",
    "plt.ylabel('accuracy (%)')\n",
    "plt.xlabel('frequency bin (with overall accuracy %)')\n",
    "plt.title('accuracy of adjusted l2-norm BERT')\n",
    "\n",
    "y3 = [\"{:.2f}\".format(((h[0]+h[2])/(h[3]+h[1]))*100) for h in list(rec.values())]\n",
    "plt.xticks(ind + width/2, y3)\n",
    "plt.legend(loc='best')\n",
    "plt.show()\n",
    "\n",
    "\n",
    "print('overall acc: ', \"{:.3f}\".format((score/len(data))*100))\n",
    "\n",
    "# obj function\n",
    "all_gap = default_gap - np.array([abs(i) for i in np.array(y)-np.array(y2)])\n",
    "delta_gap = (1/no_bin)*np.sum(all_gap)\n",
    "delta_acc = (score/len(data)*100) - default_acc\n",
    "y3 = [((h[0]+h[2])/(h[3]+h[1]))*100 for h in list(rec.values())]\n",
    "delta_all_acc = (1/no_bin)*np.sum(np.array(y3) - np.array(default_all_acc))\n",
    "obj = (delta_gap + delta_all_acc + delta_acc)/100\n",
    "\n",
    "figure(figsize=(8, 6), dpi=80)\n",
    "#print(y2)\n",
    "plt.bar(x, all_gap)\n",
    "plt.xlabel('frequency bin')\n",
    "plt.ylabel('gap difference (%)')\n",
    "plt.title('cosine similarity estimation improvement')\n",
    "plt.xticks(x)\n",
    "plt.show()\n",
    "\n",
    "figure(figsize=(8, 6), dpi=80)\n",
    "#print(y2)\n",
    "plt.bar(x, np.array(y3) - np.array(default_all_acc))\n",
    "plt.xlabel('frequency bin')\n",
    "plt.ylabel('accuracy difference (%)')\n",
    "plt.title('accuracy improvement in each freauency bin')\n",
    "plt.xticks(x)\n",
    "plt.show()\n",
    "\n",
    "print('Delta accuracy (%): ', \"{:.3f}\".format(delta_acc))\n",
    "print('Average gap improvement (%): ', \"{:.3f}\".format(delta_gap))\n",
    "print('objective function: ', \"{:.3f}\".format(obj))"
   ]
  },
  {
   "cell_type": "code",
   "execution_count": null,
   "id": "ce7897cb",
   "metadata": {},
   "outputs": [],
   "source": []
  }
 ],
 "metadata": {
  "kernelspec": {
   "display_name": "Python 3 (ipykernel)",
   "language": "python",
   "name": "python3"
  },
  "language_info": {
   "codemirror_mode": {
    "name": "ipython",
    "version": 3
   },
   "file_extension": ".py",
   "mimetype": "text/x-python",
   "name": "python",
   "nbconvert_exporter": "python",
   "pygments_lexer": "ipython3",
   "version": "3.9.12"
  }
 },
 "nbformat": 4,
 "nbformat_minor": 5
}
