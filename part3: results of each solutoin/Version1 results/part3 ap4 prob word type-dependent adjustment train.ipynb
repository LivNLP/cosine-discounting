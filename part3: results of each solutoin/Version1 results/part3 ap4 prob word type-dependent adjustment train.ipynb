{
 "cells": [
  {
   "cell_type": "markdown",
   "id": "338bed4f",
   "metadata": {},
   "source": [
    "# prepare dataset and libraries"
   ]
  },
  {
   "cell_type": "code",
   "execution_count": 1,
   "id": "af4368ac",
   "metadata": {},
   "outputs": [],
   "source": [
    "import pandas as pd"
   ]
  },
  {
   "cell_type": "code",
   "execution_count": 2,
   "id": "d93894b8",
   "metadata": {},
   "outputs": [],
   "source": [
    "data = pd.read_csv('C:\\\\Users\\\\Saeth\\\\Downloads\\\\WIC_default_V4_emb.csv')"
   ]
  },
  {
   "cell_type": "code",
   "execution_count": 3,
   "id": "e32da3e6",
   "metadata": {},
   "outputs": [],
   "source": [
    "import matplotlib.pyplot as plt\n",
    "from matplotlib.pyplot import figure"
   ]
  },
  {
   "cell_type": "code",
   "execution_count": 4,
   "id": "f33af32d",
   "metadata": {},
   "outputs": [],
   "source": [
    "import torch\n",
    "from sklearn.metrics.pairwise import cosine_similarity\n",
    "import math\n",
    "import numpy as np\n",
    "import nltk\n",
    "from nltk.tokenize import word_tokenize\n",
    "from nltk.tag import tagset_mapping, map_tag\n",
    "import gensim\n",
    "from gensim.utils import simple_preprocess\n",
    "from gensim.parsing.preprocessing import STOPWORDS\n",
    "from nltk.stem import WordNetLemmatizer, SnowballStemmer\n",
    "import numpy as np\n",
    "from sklearn.decomposition import PCA\n",
    "import random\n",
    "import warnings\n",
    "warnings.filterwarnings(\"ignore\") "
   ]
  },
  {
   "cell_type": "code",
   "execution_count": 5,
   "id": "849627ee",
   "metadata": {},
   "outputs": [
    {
     "data": {
      "text/plain": [
       "7477811"
      ]
     },
     "execution_count": 5,
     "metadata": {},
     "output_type": "execute_result"
    }
   ],
   "source": [
    "maxy = max(data['freq'])\n",
    "maxy"
   ]
  },
  {
   "cell_type": "code",
   "execution_count": 6,
   "id": "2e893f54",
   "metadata": {},
   "outputs": [
    {
     "data": {
      "image/png": "[encoded data removed]",
      "text/plain": [
       "<Figure size 640x480 with 1 Axes>"
      ]
     },
     "metadata": {
      "needs_background": "light"
     },
     "output_type": "display_data"
    },
    {
     "name": "stdout",
     "output_type": "stream",
     "text": [
      "overall acc:  69.357\n"
     ]
    }
   ],
   "source": [
    "# baseline\n",
    "no_bin=10\n",
    "# 3399860\n",
    "# 3895208\n",
    "move = np.log2(maxy)/no_bin\n",
    "rec= {i+1:[0,0,0,0] for i in range(10)} # sim[true], sim[all], dissim[true], dissim[all]\n",
    "\n",
    "score = 0 # overall acc\n",
    "for index in range(len(data)):\n",
    "    emb1 = torch.tensor([float(i) for i in data.iloc[index]['emb1'][1:-2].split(',')])\n",
    "    emb2 = torch.tensor([float(i) for i in data.iloc[index]['emb2'][1:-2].split(',')])\n",
    "    log2_freq = data.iloc[index]['log2freq']\n",
    "    cos = np.dot(emb1, emb2)/((np.linalg.norm(emb1)*np.linalg.norm(emb2)))\n",
    "\n",
    "    if cos >= 0.5447465400847086:\n",
    "        temp = 'T'\n",
    "    else:\n",
    "        temp = 'F'\n",
    "    lol=False\n",
    "    label = data.iloc[index]['human_label']\n",
    "    if temp == label:\n",
    "        score+=1\n",
    "        lol=True\n",
    "    for j in range(10):\n",
    "        left = j*move\n",
    "        if log2_freq<left:\n",
    "            if label == 'T':\n",
    "                rec[j][1]+=1\n",
    "                if lol:\n",
    "                    rec[j][0]+=1\n",
    "            else:\n",
    "                rec[j][3]+=1\n",
    "                if lol:\n",
    "                    rec[j][2]+=1\n",
    "            break\n",
    "        if j==9:\n",
    "            if label == 'T':\n",
    "                rec[j+1][1]+=1\n",
    "                if lol:\n",
    "                    rec[j+1][0]+=1\n",
    "            else:\n",
    "                rec[j+1][3]+=1\n",
    "                if lol:\n",
    "                    rec[j+1][2]+=1\n",
    "#print(rec)\n",
    "figure(figsize=(8, 6), dpi=80)\n",
    "N = 10\n",
    "#men_means = (20, 35, 30, 35, 27)\n",
    "#women_means = (25, 32, 34, 20, 25)\n",
    "x=[j for j in range(1,11)]\n",
    "ind = np.arange(N) \n",
    "width = 0.35\n",
    "y=[]\n",
    "for g in list(rec.values()):\n",
    "    if g[1] != 0:\n",
    "        y.append((g[0]/g[1])*100)\n",
    "    else:\n",
    "        y.append(0)\n",
    "plt.bar(ind, y, width, label='sim')\n",
    "y2=[]\n",
    "for h in  list(rec.values()):\n",
    "    if h[3] !=0:\n",
    "        y2.append((h[2]/h[3])*100)\n",
    "    else:\n",
    "        y2.append(0)\n",
    "plt.bar(ind + width, y2, width,\n",
    "    label='dissim')\n",
    "\n",
    "#plt.bar(ind + 2*width, [(h[0]+h[2])/(h[3]+h[1]) for h in list(rec.values())], width,\n",
    "    #label='overall')\n",
    "\n",
    "plt.ylabel('accuracy (%)')\n",
    "plt.xlabel('frequency bin (with overall accuracy %)')\n",
    "plt.title('acc of default BERT')\n",
    "\n",
    "y3=[]\n",
    "for h in list(rec.values()):\n",
    "    if h[3]+h[1] != 0:\n",
    "        y3.append((h[0]+h[2])/(h[3]+h[1]))\n",
    "    else:\n",
    "        y3.append(0)\n",
    "default_result = [\"{:.2f}\".format(k*100) for k in y3]\n",
    "default_all_acc = [k*100 for k in y3]\n",
    "\n",
    "plt.xticks(ind + width/2, default_result)\n",
    "plt.legend(loc='best')\n",
    "plt.show()\n",
    "\n",
    "default_gap = np.array([abs(i) for i in np.array(y)-np.array(y2)])\n",
    "default_acc = (score/len(data))*100\n",
    "print('overall acc: ', \"{:.3f}\".format(default_acc))"
   ]
  },
  {
   "cell_type": "code",
   "execution_count": 7,
   "id": "32a3233b",
   "metadata": {},
   "outputs": [
    {
     "data": {
      "text/plain": [
       "array([80.        , 57.14285714, 44.54545455, 48.11881188, 19.21653035,\n",
       "        9.3218436 ,  1.40467402, 11.64641845, 21.17998327, 65.05875077])"
      ]
     },
     "execution_count": 7,
     "metadata": {},
     "output_type": "execute_result"
    }
   ],
   "source": [
    "default_gap"
   ]
  },
  {
   "cell_type": "code",
   "execution_count": 8,
   "id": "62fbd3d3",
   "metadata": {},
   "outputs": [
    {
     "data": {
      "text/plain": [
       "69.35722201699298"
      ]
     },
     "execution_count": 8,
     "metadata": {},
     "output_type": "execute_result"
    }
   ],
   "source": [
    "default_acc"
   ]
  },
  {
   "cell_type": "code",
   "execution_count": 9,
   "id": "0716d926",
   "metadata": {},
   "outputs": [
    {
     "data": {
      "text/plain": [
       "[71.42857142857143,\n",
       " 86.20689655172413,\n",
       " 81.9672131147541,\n",
       " 80.16528925619835,\n",
       " 69.78851963746223,\n",
       " 72.98013245033113,\n",
       " 67.76232616940582,\n",
       " 69.8639942734431,\n",
       " 69.35123042505593,\n",
       " 53.47826086956522]"
      ]
     },
     "execution_count": 9,
     "metadata": {},
     "output_type": "execute_result"
    }
   ],
   "source": [
    "default_all_acc"
   ]
  },
  {
   "cell_type": "markdown",
   "id": "6bcad510",
   "metadata": {},
   "source": [
    "# train the model"
   ]
  },
  {
   "cell_type": "code",
   "execution_count": 69,
   "id": "7f23f7fa",
   "metadata": {},
   "outputs": [],
   "source": [
    "import random"
   ]
  },
  {
   "cell_type": "code",
   "execution_count": 91,
   "id": "780aac6b",
   "metadata": {},
   "outputs": [
    {
     "data": {
      "image/png": "[encoded data removed]",
      "text/plain": [
       "<Figure size 640x480 with 1 Axes>"
      ]
     },
     "metadata": {
      "needs_background": "light"
     },
     "output_type": "display_data"
    },
    {
     "name": "stdout",
     "output_type": "stream",
     "text": [
      "overall acc:  69.302\n"
     ]
    },
    {
     "data": {
      "image/png": "[encoded data removed]",
      "text/plain": [
       "<Figure size 640x480 with 1 Axes>"
      ]
     },
     "metadata": {
      "needs_background": "light"
     },
     "output_type": "display_data"
    },
    {
     "data": {
      "image/png": "[encoded data removed]",
      "text/plain": [
       "<Figure size 640x480 with 1 Axes>"
      ]
     },
     "metadata": {
      "needs_background": "light"
     },
     "output_type": "display_data"
    },
    {
     "name": "stdout",
     "output_type": "stream",
     "text": [
      "Delta accuracy (%):  -0.055\n",
      "Average gap improvement (%):  14.750\n",
      "objective function:  0.156\n"
     ]
    }
   ],
   "source": [
    "# alpha = -0.01* bin + 1.06\n",
    "\n",
    "no_bin=10\n",
    "# 3399860\n",
    "# 3895208\n",
    "move = np.log2(maxy)/no_bin\n",
    "rec= {i+1:[0,0,0,0] for i in range(10)}\n",
    "m1 = 0.023\n",
    "t1 = 14.5\n",
    "m2 = 0.03\n",
    "\n",
    "m3 = 0.02\n",
    "m4 = 0.005\n",
    "t2 = 14.65\n",
    "score = 0\n",
    "for index in range(len(data)):\n",
    "    emb1 = torch.tensor([float(i) for i in data.iloc[index]['emb1'][1:-2].split(',')])\n",
    "    emb2 = torch.tensor([float(i) for i in data.iloc[index]['emb2'][1:-2].split(',')])\n",
    "    log2_freq = data.iloc[index]['log2freq']\n",
    "    \n",
    "    if log2_freq/np.log2(maxy) >= random.random():\n",
    "        if (data.iloc[index]['keyword'] not in gensim.parsing.preprocessing.STOPWORDS):\n",
    "            if log2_freq>= t1:\n",
    "                alpha = (-m1* log2_freq) + 1 + t1*m1\n",
    "                # non_stop words m1 lowest\n",
    "                cos = np.dot(emb1, emb2)/((np.linalg.norm(emb1)*np.linalg.norm(emb2))*alpha)\n",
    "            else:\n",
    "                alpha = (-m2* log2_freq) + 1 + t1*m2\n",
    "                # non_stop words m1 lowest\n",
    "                cos = np.dot(emb1, emb2)/((np.linalg.norm(emb1)*np.linalg.norm(emb2))*alpha)\n",
    "        else:\n",
    "            if log2_freq>= t2:\n",
    "                alpha = (-m3* log2_freq) + 1 + t2*m3\n",
    "                # non_stop words m1 lowest\n",
    "                cos = np.dot(emb1, emb2)/((np.linalg.norm(emb1)*np.linalg.norm(emb2))*alpha)\n",
    "            else:\n",
    "                alpha = (-m4* log2_freq) + 1 + t2*m4\n",
    "                # non_stop words m1 lowest\n",
    "                cos = np.dot(emb1, emb2)/((np.linalg.norm(emb1)*np.linalg.norm(emb2))*alpha)\n",
    "    else:\n",
    "        cos = np.dot(emb1, emb2)/((np.linalg.norm(emb1)*np.linalg.norm(emb2)))\n",
    "   \n",
    "    if cos >= 0.5447465400847086:\n",
    "        temp = 'T'\n",
    "    else:\n",
    "        temp = 'F'\n",
    "    lol=False\n",
    "    label = data.iloc[index]['human_label']\n",
    "    if temp == label:\n",
    "        score+=1\n",
    "        lol=True\n",
    "    for j in range(10):\n",
    "        left = j*move\n",
    "        if log2_freq<left:\n",
    "            if label == 'T':\n",
    "                rec[j][1]+=1\n",
    "                if lol:\n",
    "                    rec[j][0]+=1\n",
    "            else:\n",
    "                rec[j][3]+=1\n",
    "                if lol:\n",
    "                    rec[j][2]+=1\n",
    "            break\n",
    "        if j==9:\n",
    "            if label == 'T':\n",
    "                rec[j+1][1]+=1\n",
    "                if lol:\n",
    "                    rec[j+1][0]+=1\n",
    "            else:\n",
    "                rec[j+1][3]+=1\n",
    "                if lol:\n",
    "                    rec[j+1][2]+=1\n",
    "\n",
    "figure(figsize=(8, 6), dpi=80)\n",
    "N = 10\n",
    "#men_means = (20, 35, 30, 35, 27)\n",
    "#women_means = (25, 32, 34, 20, 25)\n",
    "x=[j for j in range(1,11)]\n",
    "ind = np.arange(N) \n",
    "width = 0.35     \n",
    "y = [(g[0]/g[1])*100 for g in list(rec.values())]\n",
    "plt.bar(ind, y, width, label='sim')\n",
    "y2=[(h[2]/h[3])*100 for h in list(rec.values())]\n",
    "plt.bar(ind + width, y2, width,\n",
    "    label='dissim')\n",
    "\n",
    "#plt.bar(ind + 2*width, [(h[0]+h[2])/(h[3]+h[1]) for h in list(rec.values())], width,\n",
    "    #label='overall')\n",
    "\n",
    "plt.ylabel('accuracy (%)')\n",
    "plt.xlabel('frequency bin (with overall accuracy %)')\n",
    "plt.title('accuracy of adjusted l2-norm BERT')\n",
    "\n",
    "y3 = [\"{:.2f}\".format(((h[0]+h[2])/(h[3]+h[1]))*100) for h in list(rec.values())]\n",
    "plt.xticks(ind + width/2, y3)\n",
    "plt.legend(loc='best')\n",
    "plt.show()\n",
    "\n",
    "\n",
    "print('overall acc: ', \"{:.3f}\".format((score/len(data))*100))\n",
    "\n",
    "# obj function\n",
    "all_gap = default_gap - np.array([abs(i) for i in np.array(y)-np.array(y2)])\n",
    "delta_gap = (1/no_bin)*np.sum(all_gap)\n",
    "delta_acc = (score/len(data)*100) - default_acc\n",
    "y3 = [((h[0]+h[2])/(h[3]+h[1]))*100 for h in list(rec.values())]\n",
    "delta_all_acc = (1/no_bin)*np.sum(np.array(y3) - np.array(default_all_acc))\n",
    "obj = (delta_gap + delta_all_acc + delta_acc)/100\n",
    "\n",
    "figure(figsize=(8, 6), dpi=80)\n",
    "#print(y2)\n",
    "plt.bar(x, all_gap)\n",
    "plt.xlabel('frequency bin')\n",
    "plt.ylabel('gap difference (%)')\n",
    "plt.title('cosine similarity estimation improvement')\n",
    "plt.xticks(x)\n",
    "plt.show()\n",
    "\n",
    "figure(figsize=(8, 6), dpi=80)\n",
    "#print(y2)\n",
    "plt.bar(x, np.array(y3) - np.array(default_all_acc))\n",
    "plt.xlabel('frequency bin')\n",
    "plt.ylabel('accuracy difference (%)')\n",
    "plt.title('accuracy improvement in each freauency bin')\n",
    "plt.xticks(x)\n",
    "plt.show()\n",
    "\n",
    "print('Delta accuracy (%): ', \"{:.3f}\".format(delta_acc))\n",
    "print('Average gap improvement (%): ', \"{:.3f}\".format(delta_gap))\n",
    "print('objective function: ', \"{:.3f}\".format(obj))"
   ]
  },
  {
   "cell_type": "code",
   "execution_count": null,
   "id": "f7f4b56c",
   "metadata": {},
   "outputs": [],
   "source": []
  }
 ],
 "metadata": {
  "kernelspec": {
   "display_name": "Python 3 (ipykernel)",
   "language": "python",
   "name": "python3"
  },
  "language_info": {
   "codemirror_mode": {
    "name": "ipython",
    "version": 3
   },
   "file_extension": ".py",
   "mimetype": "text/x-python",
   "name": "python",
   "nbconvert_exporter": "python",
   "pygments_lexer": "ipython3",
   "version": "3.9.12"
  }
 },
 "nbformat": 4,
 "nbformat_minor": 5
}
