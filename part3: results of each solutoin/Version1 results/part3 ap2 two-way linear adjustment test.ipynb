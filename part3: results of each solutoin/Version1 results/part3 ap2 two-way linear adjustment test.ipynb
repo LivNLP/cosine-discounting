{
 "cells": [
  {
   "cell_type": "markdown",
   "id": "c3fed93c",
   "metadata": {},
   "source": [
    "# prepare dataset and libraries"
   ]
  },
  {
   "cell_type": "code",
   "execution_count": 1,
   "id": "a615d14e",
   "metadata": {},
   "outputs": [],
   "source": [
    "import pandas as pd"
   ]
  },
  {
   "cell_type": "code",
   "execution_count": 2,
   "id": "ff18a49e",
   "metadata": {},
   "outputs": [],
   "source": [
    "data = pd.read_csv('C:\\\\Users\\\\Saeth\\\\Downloads\\\\WIC_Dev_V1.csv')"
   ]
  },
  {
   "cell_type": "code",
   "execution_count": 3,
   "id": "f29b5e8c",
   "metadata": {},
   "outputs": [],
   "source": [
    "import matplotlib.pyplot as plt\n",
    "from matplotlib.pyplot import figure"
   ]
  },
  {
   "cell_type": "code",
   "execution_count": 4,
   "id": "ba453c7e",
   "metadata": {},
   "outputs": [],
   "source": [
    "from ax import optimize"
   ]
  },
  {
   "cell_type": "code",
   "execution_count": 17,
   "id": "e147ecf8",
   "metadata": {},
   "outputs": [],
   "source": [
    "import torch\n",
    "from sklearn.metrics.pairwise import cosine_similarity\n",
    "import math\n",
    "import numpy as np\n",
    "import nltk\n",
    "from nltk.tokenize import word_tokenize\n",
    "from nltk.tag import tagset_mapping, map_tag\n",
    "import gensim\n",
    "from gensim.utils import simple_preprocess\n",
    "from gensim.parsing.preprocessing import STOPWORDS\n",
    "from nltk.stem import WordNetLemmatizer, SnowballStemmer\n",
    "import numpy as np\n",
    "from sklearn.decomposition import PCA\n",
    "import random\n",
    "import warnings\n",
    "warnings.filterwarnings(\"ignore\") "
   ]
  },
  {
   "cell_type": "code",
   "execution_count": 6,
   "id": "3c4b04d2",
   "metadata": {},
   "outputs": [
    {
     "data": {
      "text/plain": [
       "1461750"
      ]
     },
     "execution_count": 6,
     "metadata": {},
     "output_type": "execute_result"
    }
   ],
   "source": [
    "maxy = max(data['freq'])\n",
    "maxy"
   ]
  },
  {
   "cell_type": "code",
   "execution_count": 21,
   "id": "50204d37",
   "metadata": {},
   "outputs": [
    {
     "data": {
      "image/png": "[encoded data removed]",
      "text/plain": [
       "<Figure size 640x480 with 1 Axes>"
      ]
     },
     "metadata": {
      "needs_background": "light"
     },
     "output_type": "display_data"
    },
    {
     "name": "stdout",
     "output_type": "stream",
     "text": [
      "overall acc:  0.6666666666666666\n"
     ]
    }
   ],
   "source": [
    "# baseline\n",
    "no_bin=10\n",
    "# 3399860\n",
    "# 3895208\n",
    "move = np.log2(maxy)/no_bin\n",
    "rec= {i+1:[0,0,0,0] for i in range(10)}\n",
    "\n",
    "score = 0\n",
    "for index in range(len(data)):\n",
    "    emb1 = torch.tensor([float(i) for i in data.iloc[index]['emb1'][1:-2].split(',')])\n",
    "    emb2 = torch.tensor([float(i) for i in data.iloc[index]['emb2'][1:-2].split(',')])\n",
    "    log2_freq = data.iloc[index]['log2freq']\n",
    "    cos = np.dot(emb1, emb2)/((np.linalg.norm(emb1)*np.linalg.norm(emb2)))\n",
    "\n",
    "    if cos >= 0.5447465400847086:\n",
    "        temp = 'T'\n",
    "    else:\n",
    "        temp = 'F'\n",
    "    lol=False\n",
    "    label = data.iloc[index]['human_label']\n",
    "    if temp == label:\n",
    "        score+=1\n",
    "        lol=True\n",
    "    for j in range(10):\n",
    "        left = j*move\n",
    "        if log2_freq<left:\n",
    "            if label == 'T':\n",
    "                rec[j][1]+=1\n",
    "                if lol:\n",
    "                    rec[j][0]+=1\n",
    "            else:\n",
    "                rec[j][3]+=1\n",
    "                if lol:\n",
    "                    rec[j][2]+=1\n",
    "            break\n",
    "        if j==9:\n",
    "            if label == 'T':\n",
    "                rec[j+1][1]+=1\n",
    "                if lol:\n",
    "                    rec[j+1][0]+=1\n",
    "            else:\n",
    "                rec[j+1][3]+=1\n",
    "                if lol:\n",
    "                    rec[j+1][2]+=1\n",
    "#print(rec)\n",
    "figure(figsize=(8, 6), dpi=80)\n",
    "N = 10\n",
    "#men_means = (20, 35, 30, 35, 27)\n",
    "#women_means = (25, 32, 34, 20, 25)\n",
    "x=[j for j in range(1,11)]\n",
    "ind = np.arange(N) \n",
    "width = 0.35\n",
    "y=[]\n",
    "for g in list(rec.values()):\n",
    "    if g[1] != 0:\n",
    "        y.append(g[0]/g[1])\n",
    "    else:\n",
    "        y.append(0)\n",
    "plt.bar(ind, y, width, label='sim')\n",
    "y2=[]\n",
    "for h in  list(rec.values()):\n",
    "    if h[3] !=0:\n",
    "        y2.append(h[2]/h[3])\n",
    "    else:\n",
    "        y2.append(0)\n",
    "plt.bar(ind + width, y2, width,\n",
    "    label='dissim')\n",
    "\n",
    "#plt.bar(ind + 2*width, [(h[0]+h[2])/(h[3]+h[1]) for h in list(rec.values())], width,\n",
    "    #label='overall')\n",
    "\n",
    "plt.ylabel('acc')\n",
    "plt.xlabel('bin (with overall acc)')\n",
    "plt.title('acc of default BERT')\n",
    "\n",
    "y3=[]\n",
    "for h in list(rec.values()):\n",
    "    if h[3]+h[1] != 0:\n",
    "        y3.append((h[0]+h[2])/(h[3]+h[1]))\n",
    "    else:\n",
    "        y3.append(0)\n",
    "default_result = [\"{:.2f}\".format(k) for k in y3]\n",
    "\n",
    "plt.xticks(ind + width/2, default_result)\n",
    "plt.legend(loc='best')\n",
    "plt.show()\n",
    "\n",
    "\n",
    "print('overall acc: ', score/len(data))"
   ]
  },
  {
   "cell_type": "markdown",
   "id": "b63ca04e",
   "metadata": {},
   "source": [
    "# test results"
   ]
  },
  {
   "cell_type": "code",
   "execution_count": 177,
   "id": "5dc927c7",
   "metadata": {},
   "outputs": [
    {
     "data": {
      "image/png": "[encoded data removed]",
      "text/plain": [
       "<Figure size 640x480 with 1 Axes>"
      ]
     },
     "metadata": {
      "needs_background": "light"
     },
     "output_type": "display_data"
    },
    {
     "name": "stdout",
     "output_type": "stream",
     "text": [
      "overall acc:  0.6571428571428571\n"
     ]
    },
    {
     "data": {
      "image/png": "[encoded data removed]",
      "text/plain": [
       "<Figure size 640x480 with 1 Axes>"
      ]
     },
     "metadata": {
      "needs_background": "light"
     },
     "output_type": "display_data"
    }
   ],
   "source": [
    "# alpha = -0.01* bin + 1.06\n",
    "\n",
    "no_bin=10\n",
    "# 3399860\n",
    "# 3895208\n",
    "move = np.log2(maxy)/no_bin\n",
    "rec= {i+1:[0,0,0,0] for i in range(10)}\n",
    "m1 = 0.025\n",
    "t1 = 14\n",
    "score = 0\n",
    "for index in range(len(data)):\n",
    "    emb1 = torch.tensor([float(i) for i in data.iloc[index]['emb1'][1:-2].split(',')])\n",
    "    emb2 = torch.tensor([float(i) for i in data.iloc[index]['emb2'][1:-2].split(',')])\n",
    "    log2_freq = data.iloc[index]['log2freq']\n",
    "    cos = np.dot(emb1, emb2)/((np.linalg.norm(emb1)*np.linalg.norm(emb2)))\n",
    "    if log2_freq<= t1:\n",
    "        if (data.iloc[index]['keyword'] not in gensim.parsing.preprocessing.STOPWORDS) and data.iloc[index]['POS']=='N':\n",
    "            alpha = (-m1* log2_freq) + 1 + t1*m1\n",
    "            # non_stop words m1 lowest\n",
    "            cos = np.dot(emb1, emb2)/((np.linalg.norm(emb1)*np.linalg.norm(emb2))*alpha)\n",
    "    if cos >= 0.5447465400847086:\n",
    "        temp = 'T'\n",
    "    else:\n",
    "        temp = 'F'\n",
    "    lol=False\n",
    "    label = data.iloc[index]['human_label']\n",
    "    if temp == label:\n",
    "        score+=1\n",
    "        lol=True\n",
    "    for j in range(10):\n",
    "        left = j*move\n",
    "        if log2_freq<left:\n",
    "            if label == 'T':\n",
    "                rec[j][1]+=1\n",
    "                if lol:\n",
    "                    rec[j][0]+=1\n",
    "            else:\n",
    "                rec[j][3]+=1\n",
    "                if lol:\n",
    "                    rec[j][2]+=1\n",
    "            break\n",
    "        if j==9:\n",
    "            if label == 'T':\n",
    "                rec[j+1][1]+=1\n",
    "                if lol:\n",
    "                    rec[j+1][0]+=1\n",
    "            else:\n",
    "                rec[j+1][3]+=1\n",
    "                if lol:\n",
    "                    rec[j+1][2]+=1\n",
    "\n",
    "figure(figsize=(8, 6), dpi=80)\n",
    "N = 10\n",
    "#men_means = (20, 35, 30, 35, 27)\n",
    "#women_means = (25, 32, 34, 20, 25)\n",
    "x=[j for j in range(1,11)]\n",
    "ind = np.arange(N) \n",
    "width = 0.35     \n",
    "plt.bar(ind, [g[0]/g[1] for g in list(rec.values())], width, label='sim')\n",
    "plt.bar(ind + width, [h[2]/h[3] for h in list(rec.values())], width,\n",
    "    label='dissim')\n",
    "\n",
    "#plt.bar(ind + 2*width, [(h[0]+h[2])/(h[3]+h[1]) for h in list(rec.values())], width,\n",
    "    #label='overall')\n",
    "\n",
    "plt.ylabel('acc')\n",
    "plt.xlabel('bin (with overall acc)')\n",
    "plt.title('acc of adjusted l2-norm BERT (with flip prob) + bin 10 optimization')\n",
    "\n",
    "y = [\"{:.2f}\".format((h[0]+h[2])/(h[3]+h[1])) for h in list(rec.values())]\n",
    "plt.xticks(ind + width/2, y)\n",
    "plt.legend(loc='best')\n",
    "plt.show()\n",
    "\n",
    "\n",
    "print('overall acc: ', score/len(data))\n",
    "\n",
    "figure(figsize=(8, 6), dpi=80)\n",
    "y2=[]\n",
    "for i in range(len(default_result)):\n",
    "    y2.append((float(y[i]) - float(default_result[i]))*100)\n",
    "#print(y2)\n",
    "plt.bar(x, y2)\n",
    "plt.xlabel('bin')\n",
    "plt.ylabel('acc difference (%)')\n",
    "plt.title('acc improvement')\n",
    "plt.xticks(x)\n",
    "plt.show()"
   ]
  },
  {
   "cell_type": "code",
   "execution_count": null,
   "id": "460dba64",
   "metadata": {},
   "outputs": [],
   "source": []
  }
 ],
 "metadata": {
  "kernelspec": {
   "display_name": "Python 3 (ipykernel)",
   "language": "python",
   "name": "python3"
  },
  "language_info": {
   "codemirror_mode": {
    "name": "ipython",
    "version": 3
   },
   "file_extension": ".py",
   "mimetype": "text/x-python",
   "name": "python",
   "nbconvert_exporter": "python",
   "pygments_lexer": "ipython3",
   "version": "3.9.12"
  }
 },
 "nbformat": 4,
 "nbformat_minor": 5
}
