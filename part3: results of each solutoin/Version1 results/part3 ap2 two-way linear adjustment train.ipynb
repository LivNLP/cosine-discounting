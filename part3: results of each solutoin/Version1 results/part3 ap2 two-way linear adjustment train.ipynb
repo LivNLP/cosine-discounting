{
 "cells": [
  {
   "cell_type": "markdown",
   "id": "af475f97",
   "metadata": {},
   "source": [
    "# prepare dataset and libraries"
   ]
  },
  {
   "cell_type": "code",
   "execution_count": 1,
   "id": "af4368ac",
   "metadata": {},
   "outputs": [],
   "source": [
    "import pandas as pd"
   ]
  },
  {
   "cell_type": "code",
   "execution_count": 2,
   "id": "d93894b8",
   "metadata": {},
   "outputs": [],
   "source": [
    "data = pd.read_csv('C:\\\\Users\\\\Saeth\\\\Downloads\\\\WIC_default_V4_emb.csv')"
   ]
  },
  {
   "cell_type": "code",
   "execution_count": 3,
   "id": "e32da3e6",
   "metadata": {},
   "outputs": [],
   "source": [
    "import matplotlib.pyplot as plt\n",
    "from matplotlib.pyplot import figure"
   ]
  },
  {
   "cell_type": "code",
   "execution_count": 4,
   "id": "6eb62dd2",
   "metadata": {},
   "outputs": [],
   "source": [
    "from ax import optimize"
   ]
  },
  {
   "cell_type": "code",
   "execution_count": 5,
   "id": "f33af32d",
   "metadata": {},
   "outputs": [],
   "source": [
    "import torch\n",
    "from sklearn.metrics.pairwise import cosine_similarity\n",
    "import math\n",
    "import numpy as np\n",
    "import nltk\n",
    "from nltk.tokenize import word_tokenize\n",
    "from nltk.tag import tagset_mapping, map_tag\n",
    "import gensim\n",
    "from gensim.utils import simple_preprocess\n",
    "from gensim.parsing.preprocessing import STOPWORDS\n",
    "from nltk.stem import WordNetLemmatizer, SnowballStemmer\n",
    "import numpy as np\n",
    "from sklearn.decomposition import PCA\n",
    "import random\n",
    "import warnings\n",
    "warnings.filterwarnings(\"ignore\") "
   ]
  },
  {
   "cell_type": "code",
   "execution_count": 6,
   "id": "849627ee",
   "metadata": {},
   "outputs": [
    {
     "data": {
      "text/plain": [
       "7477811"
      ]
     },
     "execution_count": 6,
     "metadata": {},
     "output_type": "execute_result"
    }
   ],
   "source": [
    "maxy = max(data['freq'])\n",
    "maxy"
   ]
  },
  {
   "cell_type": "code",
   "execution_count": 7,
   "id": "2e893f54",
   "metadata": {},
   "outputs": [
    {
     "data": {
      "image/png": "[encoded data removed]",
      "text/plain": [
       "<Figure size 640x480 with 1 Axes>"
      ]
     },
     "metadata": {
      "needs_background": "light"
     },
     "output_type": "display_data"
    },
    {
     "name": "stdout",
     "output_type": "stream",
     "text": [
      "overall acc:  69.357\n"
     ]
    }
   ],
   "source": [
    "# baseline\n",
    "no_bin=10\n",
    "# 3399860\n",
    "# 3895208\n",
    "move = np.log2(maxy)/no_bin\n",
    "rec= {i+1:[0,0,0,0] for i in range(10)} # sim[true], sim[all], dissim[true], dissim[all]\n",
    "\n",
    "score = 0 # overall acc\n",
    "for index in range(len(data)):\n",
    "    emb1 = torch.tensor([float(i) for i in data.iloc[index]['emb1'][1:-2].split(',')])\n",
    "    emb2 = torch.tensor([float(i) for i in data.iloc[index]['emb2'][1:-2].split(',')])\n",
    "    log2_freq = data.iloc[index]['log2freq']\n",
    "    cos = np.dot(emb1, emb2)/((np.linalg.norm(emb1)*np.linalg.norm(emb2)))\n",
    "\n",
    "    if cos >= 0.5447465400847086:\n",
    "        temp = 'T'\n",
    "    else:\n",
    "        temp = 'F'\n",
    "    lol=False\n",
    "    label = data.iloc[index]['human_label']\n",
    "    if temp == label:\n",
    "        score+=1\n",
    "        lol=True\n",
    "    for j in range(10):\n",
    "        left = j*move\n",
    "        if log2_freq<left:\n",
    "            if label == 'T':\n",
    "                rec[j][1]+=1\n",
    "                if lol:\n",
    "                    rec[j][0]+=1\n",
    "            else:\n",
    "                rec[j][3]+=1\n",
    "                if lol:\n",
    "                    rec[j][2]+=1\n",
    "            break\n",
    "        if j==9:\n",
    "            if label == 'T':\n",
    "                rec[j+1][1]+=1\n",
    "                if lol:\n",
    "                    rec[j+1][0]+=1\n",
    "            else:\n",
    "                rec[j+1][3]+=1\n",
    "                if lol:\n",
    "                    rec[j+1][2]+=1\n",
    "#print(rec)\n",
    "figure(figsize=(8, 6), dpi=80)\n",
    "N = 10\n",
    "#men_means = (20, 35, 30, 35, 27)\n",
    "#women_means = (25, 32, 34, 20, 25)\n",
    "x=[j for j in range(1,11)]\n",
    "ind = np.arange(N) \n",
    "width = 0.35\n",
    "y=[]\n",
    "for g in list(rec.values()):\n",
    "    if g[1] != 0:\n",
    "        y.append((g[0]/g[1])*100)\n",
    "    else:\n",
    "        y.append(0)\n",
    "plt.bar(ind, y, width, label='sim')\n",
    "y2=[]\n",
    "for h in  list(rec.values()):\n",
    "    if h[3] !=0:\n",
    "        y2.append((h[2]/h[3])*100)\n",
    "    else:\n",
    "        y2.append(0)\n",
    "plt.bar(ind + width, y2, width,\n",
    "    label='dissim')\n",
    "\n",
    "#plt.bar(ind + 2*width, [(h[0]+h[2])/(h[3]+h[1]) for h in list(rec.values())], width,\n",
    "    #label='overall')\n",
    "\n",
    "plt.ylabel('accuracy (%)')\n",
    "plt.xlabel('frequency bin (with overall accuracy %)')\n",
    "plt.title('acc of default BERT')\n",
    "\n",
    "y3=[]\n",
    "for h in list(rec.values()):\n",
    "    if h[3]+h[1] != 0:\n",
    "        y3.append((h[0]+h[2])/(h[3]+h[1]))\n",
    "    else:\n",
    "        y3.append(0)\n",
    "default_result = [\"{:.2f}\".format(k*100) for k in y3]\n",
    "default_all_acc = [k*100 for k in y3]\n",
    "\n",
    "plt.xticks(ind + width/2, default_result)\n",
    "plt.legend(loc='best')\n",
    "plt.show()\n",
    "\n",
    "default_gap = np.array([abs(i) for i in np.array(y)-np.array(y2)])\n",
    "default_acc = (score/len(data))*100\n",
    "print('overall acc: ', \"{:.3f}\".format(default_acc))"
   ]
  },
  {
   "cell_type": "code",
   "execution_count": 8,
   "id": "32a3233b",
   "metadata": {},
   "outputs": [
    {
     "data": {
      "text/plain": [
       "array([80.        , 57.14285714, 44.54545455, 48.11881188, 19.21653035,\n",
       "        9.3218436 ,  1.40467402, 11.64641845, 21.17998327, 65.05875077])"
      ]
     },
     "execution_count": 8,
     "metadata": {},
     "output_type": "execute_result"
    }
   ],
   "source": [
    "default_gap"
   ]
  },
  {
   "cell_type": "code",
   "execution_count": 9,
   "id": "62fbd3d3",
   "metadata": {},
   "outputs": [
    {
     "data": {
      "text/plain": [
       "69.35722201699298"
      ]
     },
     "execution_count": 9,
     "metadata": {},
     "output_type": "execute_result"
    }
   ],
   "source": [
    "default_acc"
   ]
  },
  {
   "cell_type": "code",
   "execution_count": 10,
   "id": "10fd800b",
   "metadata": {},
   "outputs": [
    {
     "data": {
      "text/plain": [
       "[71.42857142857143,\n",
       " 86.20689655172413,\n",
       " 81.9672131147541,\n",
       " 80.16528925619835,\n",
       " 69.78851963746223,\n",
       " 72.98013245033113,\n",
       " 67.76232616940582,\n",
       " 69.8639942734431,\n",
       " 69.35123042505593,\n",
       " 53.47826086956522]"
      ]
     },
     "execution_count": 10,
     "metadata": {},
     "output_type": "execute_result"
    }
   ],
   "source": [
    "default_all_acc"
   ]
  },
  {
   "cell_type": "code",
   "execution_count": 11,
   "id": "04fc1a58",
   "metadata": {},
   "outputs": [],
   "source": [
    "# two-way linear adjustment approach\n",
    "def med_freq(m1, m2, t1):\n",
    "    score = 0\n",
    "    no_bin=10\n",
    "    # 3399860\n",
    "    # 3895208\n",
    "    move = np.log2(maxy)/no_bin\n",
    "    rec= {i+1:[0,0,0,0] for i in range(10)}\n",
    "    for index in range(len(data)):\n",
    "        emb1 = torch.tensor([float(i) for i in data.iloc[index]['emb1'][1:-2].split(',')])\n",
    "        emb2 = torch.tensor([float(i) for i in data.iloc[index]['emb2'][1:-2].split(',')])\n",
    "        log2_freq = data.iloc[index]['log2freq']\n",
    "        \n",
    "        if log2_freq>=t1:\n",
    "            alpha = (-m1* log2_freq) + 1 + t1*m1\n",
    "            # non_stop words m1 lowest\n",
    "            cos = np.dot(emb1, emb2)/((np.linalg.norm(emb1)*np.linalg.norm(emb2))*alpha)\n",
    "        else:\n",
    "            alpha = (-m2* log2_freq) + 1 + t1*m2\n",
    "            # non_stop words m1 lowest\n",
    "            cos = np.dot(emb1, emb2)/((np.linalg.norm(emb1)*np.linalg.norm(emb2))*alpha)\n",
    "\n",
    "        \n",
    "        if cos >= 0.5447465400847086:\n",
    "            temp = 'T'\n",
    "        else:\n",
    "            temp = 'F'\n",
    "        lol=False\n",
    "        label = data.iloc[index]['human_label']\n",
    "        if temp == label:\n",
    "            score+=1\n",
    "            lol=True\n",
    "        for j in range(10):\n",
    "            left = j*move\n",
    "            if log2_freq<left:\n",
    "                if label == 'T':\n",
    "                    rec[j][1]+=1\n",
    "                    if lol:\n",
    "                        rec[j][0]+=1\n",
    "                else:\n",
    "                    rec[j][3]+=1\n",
    "                    if lol:\n",
    "                        rec[j][2]+=1\n",
    "                break\n",
    "            if j==9:\n",
    "                if label == 'T':\n",
    "                    rec[j+1][1]+=1\n",
    "                    if lol:\n",
    "                        rec[j+1][0]+=1\n",
    "                else:\n",
    "                    rec[j+1][3]+=1\n",
    "                    if lol:\n",
    "                        rec[j+1][2]+=1\n",
    "    y = [(g[0]/g[1])*100 for g in list(rec.values())] # sim\n",
    "    y2=[(h[2]/h[3])*100 for h in list(rec.values())] # dissim\n",
    "    y3 = [((h[0]+h[2])/(h[3]+h[1]))*100 for h in list(rec.values())]\n",
    "    all_gap = default_gap - np.array([abs(i) for i in np.array(y)-np.array(y2)])\n",
    "    delta_gap = (1/no_bin)*np.sum(all_gap)\n",
    "    delta_acc = (score/len(data))*100 - default_acc\n",
    "    delta_all_acc = (1/no_bin)*np.sum(np.array(y3) - np.array(default_all_acc))\n",
    "    return (delta_gap + delta_all_acc + delta_acc)/100"
   ]
  },
  {
   "cell_type": "markdown",
   "id": "08c22c1a",
   "metadata": {},
   "source": [
    "# train the model"
   ]
  },
  {
   "cell_type": "code",
   "execution_count": 14,
   "id": "cb122596",
   "metadata": {},
   "outputs": [],
   "source": [
    "import timeit"
   ]
  },
  {
   "cell_type": "code",
   "execution_count": 16,
   "id": "8be3fb64",
   "metadata": {},
   "outputs": [
    {
     "name": "stderr",
     "output_type": "stream",
     "text": [
      "[INFO 09-23 04:57:26] ax.service.utils.instantiation: Inferred value type of ParameterType.FLOAT for parameter m1. If that is not the expected value type, you can explicity specify 'value_type' ('int', 'float', 'bool' or 'str') in parameter dict.\n",
      "[INFO 09-23 04:57:26] ax.service.utils.instantiation: Inferred value type of ParameterType.FLOAT for parameter m2. If that is not the expected value type, you can explicity specify 'value_type' ('int', 'float', 'bool' or 'str') in parameter dict.\n",
      "[INFO 09-23 04:57:26] ax.service.utils.instantiation: Inferred value type of ParameterType.FLOAT for parameter t1. If that is not the expected value type, you can explicity specify 'value_type' ('int', 'float', 'bool' or 'str') in parameter dict.\n",
      "[INFO 09-23 04:57:26] ax.service.utils.instantiation: Created search space: SearchSpace(parameters=[RangeParameter(name='m1', parameter_type=FLOAT, range=[0.02499, 0.02501]), RangeParameter(name='m2', parameter_type=FLOAT, range=[0.0099, 0.0101]), RangeParameter(name='t1', parameter_type=FLOAT, range=[15.99, 16.01])], parameter_constraints=[]).\n",
      "[INFO 09-23 04:57:26] ax.modelbridge.dispatch_utils: Using Bayesian optimization since there are more ordered parameters than there are categories for the unordered categorical parameters.\n",
      "[INFO 09-23 04:57:26] ax.modelbridge.dispatch_utils: Using Bayesian Optimization generation strategy: GenerationStrategy(name='Sobol+GPEI', steps=[Sobol for 6 trials, GPEI for subsequent trials]). Iterations after 6 will take longer to generate due to  model-fitting.\n",
      "[INFO 09-23 04:57:26] ax.service.managed_loop: Started full optimization with 100 steps.\n",
      "[INFO 09-23 04:57:26] ax.service.managed_loop: Running optimization trial 1...\n",
      "[INFO 09-23 04:57:33] ax.service.managed_loop: Running optimization trial 2...\n",
      "[INFO 09-23 04:57:40] ax.service.managed_loop: Running optimization trial 3...\n",
      "[INFO 09-23 04:57:46] ax.service.managed_loop: Running optimization trial 4...\n",
      "[INFO 09-23 04:57:53] ax.service.managed_loop: Running optimization trial 5...\n",
      "[INFO 09-23 04:58:00] ax.service.managed_loop: Running optimization trial 6...\n",
      "[INFO 09-23 04:58:08] ax.service.managed_loop: Running optimization trial 7...\n",
      "[INFO 09-23 04:58:16] ax.service.managed_loop: Running optimization trial 8...\n",
      "[INFO 09-23 04:58:23] ax.service.managed_loop: Running optimization trial 9...\n",
      "[INFO 09-23 04:58:31] ax.service.managed_loop: Running optimization trial 10...\n",
      "[INFO 09-23 04:58:38] ax.service.managed_loop: Running optimization trial 11...\n",
      "[INFO 09-23 04:58:46] ax.service.managed_loop: Running optimization trial 12...\n",
      "[INFO 09-23 04:58:53] ax.service.managed_loop: Running optimization trial 13...\n",
      "[INFO 09-23 04:59:01] ax.service.managed_loop: Running optimization trial 14...\n",
      "[INFO 09-23 04:59:09] ax.service.managed_loop: Running optimization trial 15...\n",
      "[INFO 09-23 04:59:16] ax.service.managed_loop: Running optimization trial 16...\n",
      "[INFO 09-23 04:59:24] ax.service.managed_loop: Running optimization trial 17...\n",
      "[INFO 09-23 04:59:31] ax.service.managed_loop: Running optimization trial 18...\n",
      "[INFO 09-23 04:59:38] ax.service.managed_loop: Running optimization trial 19...\n",
      "[INFO 09-23 04:59:46] ax.service.managed_loop: Running optimization trial 20...\n",
      "[INFO 09-23 04:59:53] ax.service.managed_loop: Running optimization trial 21...\n",
      "[INFO 09-23 05:00:01] ax.service.managed_loop: Running optimization trial 22...\n",
      "[INFO 09-23 05:00:09] ax.service.managed_loop: Running optimization trial 23...\n",
      "[INFO 09-23 05:00:16] ax.service.managed_loop: Running optimization trial 24...\n",
      "[INFO 09-23 05:00:24] ax.service.managed_loop: Running optimization trial 25...\n",
      "[INFO 09-23 05:00:32] ax.service.managed_loop: Running optimization trial 26...\n",
      "[INFO 09-23 05:00:40] ax.service.managed_loop: Running optimization trial 27...\n",
      "[INFO 09-23 05:00:48] ax.service.managed_loop: Running optimization trial 28...\n",
      "[INFO 09-23 05:00:56] ax.service.managed_loop: Running optimization trial 29...\n",
      "[INFO 09-23 05:01:03] ax.service.managed_loop: Running optimization trial 30...\n",
      "[INFO 09-23 05:01:10] ax.service.managed_loop: Running optimization trial 31...\n",
      "[INFO 09-23 05:01:18] ax.service.managed_loop: Running optimization trial 32...\n",
      "[INFO 09-23 05:01:25] ax.service.managed_loop: Running optimization trial 33...\n",
      "[INFO 09-23 05:01:32] ax.service.managed_loop: Running optimization trial 34...\n",
      "[INFO 09-23 05:01:39] ax.service.managed_loop: Running optimization trial 35...\n",
      "[INFO 09-23 05:01:46] ax.service.managed_loop: Running optimization trial 36...\n",
      "[INFO 09-23 05:01:53] ax.service.managed_loop: Running optimization trial 37...\n",
      "[INFO 09-23 05:02:01] ax.service.managed_loop: Running optimization trial 38...\n",
      "[INFO 09-23 05:02:08] ax.service.managed_loop: Running optimization trial 39...\n",
      "[INFO 09-23 05:02:17] ax.service.managed_loop: Running optimization trial 40...\n",
      "[INFO 09-23 05:02:24] ax.service.managed_loop: Running optimization trial 41...\n",
      "[INFO 09-23 05:02:32] ax.service.managed_loop: Running optimization trial 42...\n",
      "[INFO 09-23 05:02:39] ax.service.managed_loop: Running optimization trial 43...\n",
      "[INFO 09-23 05:02:46] ax.service.managed_loop: Running optimization trial 44...\n",
      "[INFO 09-23 05:02:54] ax.service.managed_loop: Running optimization trial 45...\n",
      "[INFO 09-23 05:03:01] ax.service.managed_loop: Running optimization trial 46...\n",
      "[INFO 09-23 05:03:08] ax.service.managed_loop: Running optimization trial 47...\n",
      "[INFO 09-23 05:03:16] ax.service.managed_loop: Running optimization trial 48...\n",
      "[INFO 09-23 05:03:23] ax.service.managed_loop: Running optimization trial 49...\n",
      "[INFO 09-23 05:03:31] ax.service.managed_loop: Running optimization trial 50...\n",
      "[INFO 09-23 05:03:39] ax.service.managed_loop: Running optimization trial 51...\n",
      "[INFO 09-23 05:03:46] ax.service.managed_loop: Running optimization trial 52...\n",
      "[INFO 09-23 05:03:53] ax.service.managed_loop: Running optimization trial 53...\n",
      "[INFO 09-23 05:04:01] ax.service.managed_loop: Running optimization trial 54...\n",
      "[INFO 09-23 05:04:09] ax.service.managed_loop: Running optimization trial 55...\n",
      "[INFO 09-23 05:04:17] ax.service.managed_loop: Running optimization trial 56...\n",
      "[INFO 09-23 05:04:25] ax.service.managed_loop: Running optimization trial 57...\n",
      "[INFO 09-23 05:04:32] ax.service.managed_loop: Running optimization trial 58...\n",
      "[INFO 09-23 05:04:39] ax.service.managed_loop: Running optimization trial 59...\n",
      "[INFO 09-23 05:04:46] ax.service.managed_loop: Running optimization trial 60...\n",
      "[INFO 09-23 05:04:53] ax.service.managed_loop: Running optimization trial 61...\n",
      "[INFO 09-23 05:05:00] ax.service.managed_loop: Running optimization trial 62...\n",
      "[INFO 09-23 05:05:07] ax.service.managed_loop: Running optimization trial 63...\n",
      "[INFO 09-23 05:05:15] ax.service.managed_loop: Running optimization trial 64...\n",
      "[INFO 09-23 05:05:22] ax.service.managed_loop: Running optimization trial 65...\n",
      "[INFO 09-23 05:05:30] ax.service.managed_loop: Running optimization trial 66...\n",
      "[INFO 09-23 05:05:37] ax.service.managed_loop: Running optimization trial 67...\n",
      "[INFO 09-23 05:05:45] ax.service.managed_loop: Running optimization trial 68...\n",
      "[INFO 09-23 05:05:52] ax.service.managed_loop: Running optimization trial 69...\n",
      "[INFO 09-23 05:05:59] ax.service.managed_loop: Running optimization trial 70...\n",
      "[INFO 09-23 05:06:07] ax.service.managed_loop: Running optimization trial 71...\n",
      "[INFO 09-23 05:06:14] ax.service.managed_loop: Running optimization trial 72...\n",
      "[INFO 09-23 05:06:22] ax.service.managed_loop: Running optimization trial 73...\n",
      "[INFO 09-23 05:06:30] ax.service.managed_loop: Running optimization trial 74...\n",
      "[INFO 09-23 05:06:38] ax.service.managed_loop: Running optimization trial 75...\n",
      "[INFO 09-23 05:06:46] ax.service.managed_loop: Running optimization trial 76...\n",
      "[INFO 09-23 05:06:55] ax.service.managed_loop: Running optimization trial 77...\n",
      "[INFO 09-23 05:07:04] ax.service.managed_loop: Running optimization trial 78...\n",
      "[INFO 09-23 05:07:13] ax.service.managed_loop: Running optimization trial 79...\n",
      "[INFO 09-23 05:07:22] ax.service.managed_loop: Running optimization trial 80...\n",
      "[INFO 09-23 05:07:31] ax.service.managed_loop: Running optimization trial 81...\n",
      "[INFO 09-23 05:07:38] ax.service.managed_loop: Running optimization trial 82...\n",
      "[INFO 09-23 05:07:46] ax.service.managed_loop: Running optimization trial 83...\n"
     ]
    },
    {
     "name": "stderr",
     "output_type": "stream",
     "text": [
      "[INFO 09-23 05:07:54] ax.service.managed_loop: Running optimization trial 84...\n",
      "[INFO 09-23 05:08:02] ax.service.managed_loop: Running optimization trial 85...\n",
      "[INFO 09-23 05:08:09] ax.service.managed_loop: Running optimization trial 86...\n",
      "[INFO 09-23 05:08:17] ax.service.managed_loop: Running optimization trial 87...\n",
      "[INFO 09-23 05:08:25] ax.service.managed_loop: Running optimization trial 88...\n",
      "[INFO 09-23 05:08:33] ax.service.managed_loop: Running optimization trial 89...\n",
      "[INFO 09-23 05:08:40] ax.service.managed_loop: Running optimization trial 90...\n",
      "[INFO 09-23 05:08:49] ax.service.managed_loop: Running optimization trial 91...\n",
      "[INFO 09-23 05:08:58] ax.service.managed_loop: Running optimization trial 92...\n",
      "[INFO 09-23 05:09:05] ax.service.managed_loop: Running optimization trial 93...\n",
      "[INFO 09-23 05:09:13] ax.service.managed_loop: Running optimization trial 94...\n",
      "[INFO 09-23 05:09:22] ax.service.managed_loop: Running optimization trial 95...\n",
      "[INFO 09-23 05:09:32] ax.service.managed_loop: Running optimization trial 96...\n",
      "[INFO 09-23 05:09:40] ax.service.managed_loop: Running optimization trial 97...\n",
      "[INFO 09-23 05:09:49] ax.service.managed_loop: Running optimization trial 98...\n",
      "[INFO 09-23 05:09:57] ax.service.managed_loop: Running optimization trial 99...\n",
      "[INFO 09-23 05:10:05] ax.service.managed_loop: Running optimization trial 100...\n"
     ]
    },
    {
     "name": "stdout",
     "output_type": "stream",
     "text": [
      "{'m1': 0.02499, 'm2': 0.010084766308884099, 't1': 16.01}\n",
      "({'objective': 0.16939947498237304}, {'objective': {'objective': 3.775209104748776e-09}})\n",
      "time (Sec):  768.9173748000001\n"
     ]
    }
   ],
   "source": [
    "start = timeit.default_timer()\n",
    "best_parameters, best_values, experiment, model2 = optimize(\n",
    "        parameters=[\n",
    "            {\n",
    "                \"name\": \"m1\",\n",
    "                \"type\": \"range\",\n",
    "                \"bounds\": [0.001, 0.1],\n",
    "            },\n",
    "            {\n",
    "                \"name\": \"m2\",\n",
    "                \"type\": \"range\",\n",
    "                \"bounds\": [0.001, 0.1],\n",
    "            },\n",
    "            {\n",
    "                \"name\": \"t1\",\n",
    "                \"type\": \"range\",\n",
    "                \"bounds\": [12.0, 18.0],\n",
    "            },\n",
    "            ],\n",
    "            # Booth function\n",
    "            evaluation_function=lambda p: med_freq(p['m1'], p['m2'], p['t1']),\n",
    "            minimize=False,\n",
    "            #parameter_constraints=[\"m1 <= m2\", 'm2 <= m3'],\n",
    "            total_trials=100,\n",
    "        )\n",
    "print(best_parameters)\n",
    "print(best_values)\n",
    "stop = timeit.default_timer()\n",
    "print('time (Sec): ', stop-start)"
   ]
  },
  {
   "cell_type": "code",
   "execution_count": 14,
   "id": "d9ad9037",
   "metadata": {},
   "outputs": [
    {
     "data": {
      "image/png": "[encoded data removed]",
      "text/plain": [
       "<Figure size 640x480 with 1 Axes>"
      ]
     },
     "metadata": {
      "needs_background": "light"
     },
     "output_type": "display_data"
    },
    {
     "name": "stdout",
     "output_type": "stream",
     "text": [
      "overall acc:  69.173\n"
     ]
    },
    {
     "data": {
      "image/png": "[encoded data removed]",
      "text/plain": [
       "<Figure size 640x480 with 1 Axes>"
      ]
     },
     "metadata": {
      "needs_background": "light"
     },
     "output_type": "display_data"
    },
    {
     "data": {
      "image/png": "[encoded data removed]",
      "text/plain": [
       "<Figure size 640x480 with 1 Axes>"
      ]
     },
     "metadata": {
      "needs_background": "light"
     },
     "output_type": "display_data"
    },
    {
     "name": "stdout",
     "output_type": "stream",
     "text": [
      "Delta accuracy (%):  -0.185\n",
      "Average gap improvement (%):  17.235\n",
      "objective function:  0.167\n"
     ]
    }
   ],
   "source": [
    "# alpha = -0.01* bin + 1.06\n",
    "\n",
    "no_bin=10\n",
    "# 3399860\n",
    "# 3895208\n",
    "move = np.log2(maxy)/no_bin\n",
    "rec= {i+1:[0,0,0,0] for i in range(10)}\n",
    "m1 = 0.025\n",
    "m2 = 0.01\n",
    "t1 = 16\n",
    "score = 0\n",
    "for index in range(len(data)):\n",
    "    emb1 = torch.tensor([float(i) for i in data.iloc[index]['emb1'][1:-2].split(',')])\n",
    "    emb2 = torch.tensor([float(i) for i in data.iloc[index]['emb2'][1:-2].split(',')])\n",
    "    log2_freq = data.iloc[index]['log2freq']\n",
    "    \n",
    "    if log2_freq>=t1:\n",
    "        alpha = (-m1* log2_freq) + 1 + t1*m1\n",
    "        # non_stop words m1 lowest\n",
    "        cos = np.dot(emb1, emb2)/((np.linalg.norm(emb1)*np.linalg.norm(emb2))*alpha)\n",
    "    else:\n",
    "        alpha = (-m2* log2_freq) + 1 + t1*m2\n",
    "        # non_stop words m1 lowest\n",
    "        cos = np.dot(emb1, emb2)/((np.linalg.norm(emb1)*np.linalg.norm(emb2))*alpha)\n",
    "    if cos >= 0.5447465400847086:\n",
    "        temp = 'T'\n",
    "    else:\n",
    "        temp = 'F'\n",
    "    lol=False\n",
    "    label = data.iloc[index]['human_label']\n",
    "    if temp == label:\n",
    "        score+=1\n",
    "        lol=True\n",
    "    for j in range(10):\n",
    "        left = j*move\n",
    "        if log2_freq<left:\n",
    "            if label == 'T':\n",
    "                rec[j][1]+=1\n",
    "                if lol:\n",
    "                    rec[j][0]+=1\n",
    "            else:\n",
    "                rec[j][3]+=1\n",
    "                if lol:\n",
    "                    rec[j][2]+=1\n",
    "            break\n",
    "        if j==9:\n",
    "            if label == 'T':\n",
    "                rec[j+1][1]+=1\n",
    "                if lol:\n",
    "                    rec[j+1][0]+=1\n",
    "            else:\n",
    "                rec[j+1][3]+=1\n",
    "                if lol:\n",
    "                    rec[j+1][2]+=1\n",
    "\n",
    "figure(figsize=(8, 6), dpi=80)\n",
    "N = 10\n",
    "#men_means = (20, 35, 30, 35, 27)\n",
    "#women_means = (25, 32, 34, 20, 25)\n",
    "x=[j for j in range(1,11)]\n",
    "ind = np.arange(N) \n",
    "width = 0.35     \n",
    "y = [(g[0]/g[1])*100 for g in list(rec.values())]\n",
    "plt.bar(ind, y, width, label='sim')\n",
    "y2=[(h[2]/h[3])*100 for h in list(rec.values())]\n",
    "plt.bar(ind + width, y2, width,\n",
    "    label='dissim')\n",
    "\n",
    "#plt.bar(ind + 2*width, [(h[0]+h[2])/(h[3]+h[1]) for h in list(rec.values())], width,\n",
    "    #label='overall')\n",
    "\n",
    "plt.ylabel('accuracy (%)')\n",
    "plt.xlabel('frequency bin (with overall accuracy %)')\n",
    "plt.title('accuracy of adjusted l2-norm BERT')\n",
    "\n",
    "y3 = [\"{:.2f}\".format(((h[0]+h[2])/(h[3]+h[1]))*100) for h in list(rec.values())]\n",
    "plt.xticks(ind + width/2, y3)\n",
    "plt.legend(loc='best')\n",
    "plt.show()\n",
    "\n",
    "\n",
    "print('overall acc: ', \"{:.3f}\".format((score/len(data))*100))\n",
    "\n",
    "# obj function\n",
    "all_gap = default_gap - np.array([abs(i) for i in np.array(y)-np.array(y2)])\n",
    "delta_gap = (1/no_bin)*np.sum(all_gap)\n",
    "delta_acc = (score/len(data)*100) - default_acc\n",
    "y3 = [((h[0]+h[2])/(h[3]+h[1]))*100 for h in list(rec.values())]\n",
    "delta_all_acc = (1/no_bin)*np.sum(np.array(y3) - np.array(default_all_acc))\n",
    "obj = (delta_gap + delta_all_acc + delta_acc)/100\n",
    "\n",
    "figure(figsize=(8, 6), dpi=80)\n",
    "#print(y2)\n",
    "plt.bar(x, all_gap)\n",
    "plt.xlabel('frequency bin')\n",
    "plt.ylabel('gap difference (%)')\n",
    "plt.title('cosine similarity estimation improvement')\n",
    "plt.xticks(x)\n",
    "plt.show()\n",
    "\n",
    "figure(figsize=(8, 6), dpi=80)\n",
    "#print(y2)\n",
    "plt.bar(x, np.array(y3) - np.array(default_all_acc))\n",
    "plt.xlabel('frequency bin')\n",
    "plt.ylabel('accuracy difference (%)')\n",
    "plt.title('accuracy improvement in each freauency bin')\n",
    "plt.xticks(x)\n",
    "plt.show()\n",
    "\n",
    "print('Delta accuracy (%): ', \"{:.3f}\".format(delta_acc))\n",
    "print('Average gap improvement (%): ', \"{:.3f}\".format(delta_gap))\n",
    "print('objective function: ', \"{:.3f}\".format(obj))"
   ]
  },
  {
   "cell_type": "code",
   "execution_count": null,
   "id": "de10e91c",
   "metadata": {},
   "outputs": [],
   "source": []
  }
 ],
 "metadata": {
  "kernelspec": {
   "display_name": "Python 3 (ipykernel)",
   "language": "python",
   "name": "python3"
  },
  "language_info": {
   "codemirror_mode": {
    "name": "ipython",
    "version": 3
   },
   "file_extension": ".py",
   "mimetype": "text/x-python",
   "name": "python",
   "nbconvert_exporter": "python",
   "pygments_lexer": "ipython3",
   "version": "3.9.12"
  }
 },
 "nbformat": 4,
 "nbformat_minor": 5
}
