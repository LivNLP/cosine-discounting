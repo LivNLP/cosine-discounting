{
 "cells": [
  {
   "cell_type": "markdown",
   "id": "f35ce4f5-0073-41c9-b09c-bd5c0114620b",
   "metadata": {},
   "source": [
    "# Load BookCorpus"
   ]
  },
  {
   "cell_type": "code",
   "execution_count": null,
   "id": "3bc08a95-588e-4db2-8383-949819c0b6fa",
   "metadata": {},
   "outputs": [],
   "source": [
    "!pip install datasets"
   ]
  },
  {
   "cell_type": "code",
   "execution_count": null,
   "id": "6a0f99e7-d768-4ef7-a1ad-12d43a4164d0",
   "metadata": {},
   "outputs": [],
   "source": [
    "# bookcorpus dataset from huggingface\n",
    "from datasets import load_dataset\n",
    "\n",
    "dataset = load_dataset(\"bookcorpus\")"
   ]
  },
  {
   "cell_type": "code",
   "execution_count": 19,
   "id": "fb5be789-de63-4711-aef3-8d7499b0ee3b",
   "metadata": {},
   "outputs": [
    {
     "data": {
      "text/plain": [
       "DatasetDict({\n",
       "    train: Dataset({\n",
       "        features: ['text'],\n",
       "        num_rows: 74004228\n",
       "    })\n",
       "})"
      ]
     },
     "execution_count": 19,
     "metadata": {},
     "output_type": "execute_result"
    }
   ],
   "source": [
    "dataset"
   ]
  },
  {
   "cell_type": "code",
   "execution_count": 28,
   "id": "a030d47b-3209-4a63-b8c3-87ff52d46baa",
   "metadata": {},
   "outputs": [
    {
     "data": {
      "text/plain": [
       "'the half-ling book one in the fall of igneeria series kaylee soderburg copyright 2013 kaylee soderburg all rights reserved .'"
      ]
     },
     "execution_count": 28,
     "metadata": {},
     "output_type": "execute_result"
    }
   ],
   "source": [
    "dataset['train']['text'][0]"
   ]
  },
  {
   "cell_type": "markdown",
   "id": "da4e449d-c15f-4b29-bcf5-50d638208187",
   "metadata": {},
   "source": [
    "# Save BookCorpus"
   ]
  },
  {
   "cell_type": "code",
   "execution_count": null,
   "id": "a5ccbf97-92eb-4b8d-924f-c3c4029f8d34",
   "metadata": {},
   "outputs": [],
   "source": [
    "import joblib"
   ]
  },
  {
   "cell_type": "code",
   "execution_count": null,
   "id": "e238ddcd-d253-4cc6-ba0c-90865929ca2f",
   "metadata": {},
   "outputs": [],
   "source": [
    "joblib.dump(dataset, 'path_to_save_the_file')"
   ]
  },
  {
   "cell_type": "code",
   "execution_count": 36,
   "id": "d05e920f-da65-4e12-a0a7-d255a948d28e",
   "metadata": {},
   "outputs": [
    {
     "data": {
      "text/plain": [
       "DatasetDict({\n",
       "    train: Dataset({\n",
       "        features: ['text'],\n",
       "        num_rows: 74004228\n",
       "    })\n",
       "})"
      ]
     },
     "execution_count": 36,
     "metadata": {},
     "output_type": "execute_result"
    }
   ],
   "source": [
    "load_book = joblib.load('path_to_save_the_file')\n",
    "load_book"
   ]
  },
  {
   "cell_type": "code",
   "execution_count": 37,
   "id": "d126b16a-341e-491b-aafe-318067bfb554",
   "metadata": {},
   "outputs": [
    {
     "data": {
      "text/plain": [
       "'the half-ling book one in the fall of igneeria series kaylee soderburg copyright 2013 kaylee soderburg all rights reserved .'"
      ]
     },
     "execution_count": 37,
     "metadata": {},
     "output_type": "execute_result"
    }
   ],
   "source": [
    "load_book['train']['text'][0]"
   ]
  },
  {
   "cell_type": "code",
   "execution_count": null,
   "id": "34f2d201-6b14-4fe6-a704-42b09981034f",
   "metadata": {},
   "outputs": [],
   "source": []
  }
 ],
 "metadata": {
  "kernelspec": {
   "display_name": "Python 3 (ipykernel)",
   "language": "python",
   "name": "python3"
  },
  "language_info": {
   "codemirror_mode": {
    "name": "ipython",
    "version": 3
   },
   "file_extension": ".py",
   "mimetype": "text/x-python",
   "name": "python",
   "nbconvert_exporter": "python",
   "pygments_lexer": "ipython3",
   "version": "3.9.12"
  }
 },
 "nbformat": 4,
 "nbformat_minor": 5
}
